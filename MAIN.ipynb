{
  "nbformat": 4,
  "nbformat_minor": 0,
  "metadata": {
    "colab": {
      "provenance": []
    },
    "kernelspec": {
      "name": "python3",
      "display_name": "Python 3"
    },
    "language_info": {
      "name": "python"
    }
  },
  "cells": [
    {
      "cell_type": "code",
      "execution_count": 1,
      "metadata": {
        "id": "7W0DWKjPNgo8",
        "colab": {
          "base_uri": "https://localhost:8080/"
        },
        "outputId": "47096adc-91a2-49e7-a9b5-56d281340e8e"
      },
      "outputs": [
        {
          "output_type": "stream",
          "name": "stdout",
          "text": [
            "  Preparing metadata (setup.py) ... \u001b[?25l\u001b[?25hdone\n",
            "  Building wheel for pandasql (setup.py) ... \u001b[?25l\u001b[?25hdone\n"
          ]
        }
      ],
      "source": [
        "# Step 0: Install and Import\n",
        "!pip install -q pandasql\n",
        "\n",
        "import pandas as pd\n",
        "import numpy as np\n",
        "import matplotlib.pyplot as plt\n",
        "from pandasql import sqldf\n",
        "from sklearn.preprocessing import StandardScaler\n",
        "from sklearn.model_selection import train_test_split\n",
        "from sklearn.linear_model import LogisticRegression\n",
        "from sklearn.metrics import classification_report, confusion_matrix\n",
        "\n",
        "pysqldf = lambda q: sqldf(q, globals())"
      ]
    },
    {
      "cell_type": "code",
      "source": [
        "# Load dataset\n",
        "df_raw = pd.read_csv('/content/sample_data/mock_ecommerce_returns_dataset.csv')"
      ],
      "metadata": {
        "id": "K1TqlIX7QL6A"
      },
      "execution_count": 2,
      "outputs": []
    },
    {
      "cell_type": "code",
      "source": [
        "# Use SQL to clean: remove nulls and select relevant fields\n",
        "query_clean = \"\"\"\n",
        "SELECT *\n",
        "FROM df_raw\n",
        "WHERE price IS NOT NULL\n",
        "  AND shipping_days IS NOT NULL\n",
        "  AND customer_rating IS NOT NULL\n",
        "\"\"\"\n",
        "df = pysqldf(query_clean)\n",
        "\n",
        "# Confirm cleaned data\n",
        "print(df.info())"
      ],
      "metadata": {
        "colab": {
          "base_uri": "https://localhost:8080/"
        },
        "id": "mKaZFtPBQSNJ",
        "outputId": "14969550-ecea-45e7-beb2-b230eff6a036"
      },
      "execution_count": 3,
      "outputs": [
        {
          "output_type": "stream",
          "name": "stdout",
          "text": [
            "<class 'pandas.core.frame.DataFrame'>\n",
            "RangeIndex: 5000 entries, 0 to 4999\n",
            "Data columns (total 11 columns):\n",
            " #   Column            Non-Null Count  Dtype  \n",
            "---  ------            --------------  -----  \n",
            " 0   order_id          5000 non-null   object \n",
            " 1   product_id        5000 non-null   object \n",
            " 2   category          5000 non-null   object \n",
            " 3   region            5000 non-null   object \n",
            " 4   supplier          5000 non-null   object \n",
            " 5   channel           5000 non-null   object \n",
            " 6   customer_segment  5000 non-null   object \n",
            " 7   price             5000 non-null   float64\n",
            " 8   shipping_days     5000 non-null   int64  \n",
            " 9   customer_rating   5000 non-null   float64\n",
            " 10  return_flag       5000 non-null   int64  \n",
            "dtypes: float64(2), int64(2), object(7)\n",
            "memory usage: 429.8+ KB\n",
            "None\n"
          ]
        }
      ]
    },
    {
      "cell_type": "code",
      "source": [
        "# Analyze Return %\n",
        "category_return = df.groupby('category')['return_flag'].mean().sort_values(ascending=False)\n",
        "category_return.plot(kind='bar', title='Return % by Category', ylabel='Return Rate', figsize=(10, 4))\n",
        "plt.show()"
      ],
      "metadata": {
        "colab": {
          "base_uri": "https://localhost:8080/",
          "height": 482
        },
        "id": "WWfnEREcQXur",
        "outputId": "347265b0-ade0-4a60-9c46-ec1de4f32dbb"
      },
      "execution_count": 4,
      "outputs": [
        {
          "output_type": "display_data",
          "data": {
            "text/plain": [
              "<Figure size 1000x400 with 1 Axes>"
            ],
            "image/png": "[encoded data removed]"
          },
          "metadata": {}
        }
      ]
    },
    {
      "cell_type": "code",
      "source": [
        "# Logistic Regression Model\n",
        "features = ['category', 'region', 'supplier', 'channel', 'customer_segment', 'price', 'shipping_days', 'customer_rating']\n",
        "X = pd.get_dummies(df[features], drop_first=True)\n",
        "y = df['return_flag']\n",
        "\n",
        "scaler = StandardScaler()\n",
        "X_scaled = scaler.fit_transform(X)\n",
        "\n",
        "X_train, X_test, y_train, y_test = train_test_split(X_scaled, y, test_size=0.2, random_state=42)\n",
        "model = LogisticRegression(max_iter=1000)\n",
        "model.fit(X_train, y_train)\n",
        "\n",
        "# Evaluate\n",
        "y_pred = model.predict(X_test)\n",
        "print(classification_report(y_test, y_pred))\n",
        "print(confusion_matrix(y_test, y_pred))"
      ],
      "metadata": {
        "colab": {
          "base_uri": "https://localhost:8080/"
        },
        "id": "uJRi8K8TQiZ4",
        "outputId": "f4765065-95ea-4cd8-aca2-2c26c294c584"
      },
      "execution_count": 5,
      "outputs": [
        {
          "output_type": "stream",
          "name": "stdout",
          "text": [
            "              precision    recall  f1-score   support\n",
            "\n",
            "           0       0.83      1.00      0.91       831\n",
            "           1       0.00      0.00      0.00       169\n",
            "\n",
            "    accuracy                           0.83      1000\n",
            "   macro avg       0.42      0.50      0.45      1000\n",
            "weighted avg       0.69      0.83      0.75      1000\n",
            "\n",
            "[[831   0]\n",
            " [169   0]]\n"
          ]
        },
        {
          "output_type": "stream",
          "name": "stderr",
          "text": [
            "/usr/local/lib/python3.11/dist-packages/sklearn/metrics/_classification.py:1565: UndefinedMetricWarning: Precision is ill-defined and being set to 0.0 in labels with no predicted samples. Use `zero_division` parameter to control this behavior.\n",
            "  _warn_prf(average, modifier, f\"{metric.capitalize()} is\", len(result))\n",
            "/usr/local/lib/python3.11/dist-packages/sklearn/metrics/_classification.py:1565: UndefinedMetricWarning: Precision is ill-defined and being set to 0.0 in labels with no predicted samples. Use `zero_division` parameter to control this behavior.\n",
            "  _warn_prf(average, modifier, f\"{metric.capitalize()} is\", len(result))\n",
            "/usr/local/lib/python3.11/dist-packages/sklearn/metrics/_classification.py:1565: UndefinedMetricWarning: Precision is ill-defined and being set to 0.0 in labels with no predicted samples. Use `zero_division` parameter to control this behavior.\n",
            "  _warn_prf(average, modifier, f\"{metric.capitalize()} is\", len(result))\n"
          ]
        }
      ]
    },
    {
      "cell_type": "code",
      "source": [
        "# Export High-Risk Products\n",
        "df['predicted_return_prob'] = model.predict_proba(X_scaled)[:, 1]\n",
        "high_risk = df[df['predicted_return_prob'] > 0.4]\n",
        "\n",
        "high_risk[['order_id', 'product_id', 'category', 'region', 'price', 'shipping_days', 'return_flag', 'predicted_return_prob']]\\\n",
        "    .to_csv('/content/high_risk_products.csv', index=False)\n",
        "\n",
        "print(f\"High-risk product records exported: {len(high_risk)}\")"
      ],
      "metadata": {
        "colab": {
          "base_uri": "https://localhost:8080/"
        },
        "id": "KofNnwL1Qnjg",
        "outputId": "f62b9a53-1d19-43ab-df98-a2290bbbb826"
      },
      "execution_count": 6,
      "outputs": [
        {
          "output_type": "stream",
          "name": "stdout",
          "text": [
            "High-risk product records exported: 40\n"
          ]
        }
      ]
    }
  ]
}